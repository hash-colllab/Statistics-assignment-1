{
 "cells": [
  {
   "cell_type": "markdown",
   "id": "f045e620-f7fd-46ee-896e-ae0ac2046106",
   "metadata": {},
   "source": [
    "Answer 1:-"
   ]
  },
  {
   "cell_type": "markdown",
   "id": "445ab9c2-fd2c-4ad9-b9da-490bbee3ae30",
   "metadata": {},
   "source": [
    "Statistics is is the science of collecting, organizing and analyzing data."
   ]
  },
  {
   "cell_type": "markdown",
   "id": "4b66c391-b9e9-472b-a979-35ff3d19815a",
   "metadata": {},
   "source": [
    "Answer 2:-"
   ]
  },
  {
   "cell_type": "markdown",
   "id": "c140e8d8-5e5b-45fe-9449-96d8afc38f5d",
   "metadata": {},
   "source": [
    "There are two types of statistics :\n",
    "1) Descriptive statistics, ex- measure of central tendency.\n",
    "2) Inferential statistics, ex- z test"
   ]
  },
  {
   "cell_type": "markdown",
   "id": "5d839ab3-0b2d-409f-a042-b31acdeda411",
   "metadata": {},
   "source": [
    "Answer 3:-"
   ]
  },
  {
   "cell_type": "markdown",
   "id": "016f1173-98fc-4cc7-b19f-3c2670fb8128",
   "metadata": {},
   "source": [
    "There are two types of data : \n",
    "1) Qualitative data, ex - Prices of house\n",
    "2) Quantative data, ex - Posts in parrticular company"
   ]
  },
  {
   "cell_type": "markdown",
   "id": "e00c618c-cbc8-4bdf-9a6b-24f46a6454d0",
   "metadata": {},
   "source": [
    "Answer 4:-"
   ]
  },
  {
   "cell_type": "markdown",
   "id": "93880b2a-4f2f-4125-a209-f1815ddb2a29",
   "metadata": {},
   "source": [
    "1) Grading in exam A+,A,B+,B,C,D,E = Ordinal data(qualitative)\n",
    "2) Colour of mangoes yellow,green,orange,red = Nominal data(qualitative)\n",
    "3) Height data of a class = Continous data (quantitative)\n",
    "4) Number of mangoes = Discrete data (quantitative)"
   ]
  },
  {
   "cell_type": "markdown",
   "id": "d3210adb-868b-4bf5-8c08-95d544a80b57",
   "metadata": {},
   "source": [
    "Answer 5:-"
   ]
  },
  {
   "cell_type": "markdown",
   "id": "ab3dbf25-17d1-4a97-8172-7b9c7952cc0f",
   "metadata": {},
   "source": [
    "Levels of measurement in statistics include:\r",
    "1) \n",
    "Nominal: Data can only be categorized\n",
    "2) \r\n",
    "Ordinal: Data can be categorized and ranke\n",
    "3) .\r\n",
    "Interval: Data can be categorized, ranked, and evenly spac\n",
    "4) d.\r\n",
    "Ratio: Data can be categorized, ranked, evenly spaced, and has a natural zero123."
   ]
  },
  {
   "cell_type": "markdown",
   "id": "e96e52bc-7361-465e-a707-5f4857c77e5c",
   "metadata": {},
   "source": [
    "Answer 6:-"
   ]
  },
  {
   "cell_type": "markdown",
   "id": "5fb5f5d0-11fa-44d7-9e1c-6aba62b34c8d",
   "metadata": {},
   "source": [
    "Understanding levels of measurement is pivotal in interpreting and analyzing data accurately. These levels dictate the statistical operations applicable to the data, influencing the choice of analytical methods and the depth of insights extracted from the information."
   ]
  },
  {
   "cell_type": "markdown",
   "id": "d93d6f5b-d5dc-4bf4-adc6-64f8b59b07d7",
   "metadata": {},
   "source": [
    "Answer 7:"
   ]
  },
  {
   "cell_type": "markdown",
   "id": "67eef504-cd2e-4aed-873d-9666302141fd",
   "metadata": {},
   "source": [
    "The difference between nominal data and ordinal data is as :\n",
    "\n",
    "Nominal data categorizes data by labeling or naming values (e.g., gender, hair color) and does not have any hierarchy\n",
    "\r\n",
    "Ordinal data involves classifying data based on rank or order (e.g., social status as 'wealthy', 'middle income', or 'poor')"
   ]
  },
  {
   "cell_type": "markdown",
   "id": "5d2b9be3-09e0-4646-bfc4-d6fe745d754d",
   "metadata": {},
   "source": [
    "Answer 8:-"
   ]
  },
  {
   "cell_type": "markdown",
   "id": "1237b587-d68c-4424-805d-29b9e386b692",
   "metadata": {},
   "source": [
    "HISTOGRAMS AND BOX-WHISKER PLOTS are two types of plots that can be used to didsplay the data in terms of range."
   ]
  },
  {
   "cell_type": "markdown",
   "id": "9e2462be-5c90-4728-8653-9464c3d171c3",
   "metadata": {},
   "source": [
    "Answer 9:-"
   ]
  },
  {
   "cell_type": "markdown",
   "id": "c70b8197-7c5f-49a1-80e2-fdd1be55ba80",
   "metadata": {},
   "source": [
    "DIFFERNCE BETWEEN DESCRIPTIVE STATISTICS AND INFERENTIAL STATISTICS :\n",
    "\n",
    "    Descriptive Statistics                           \tInferential Statistics\n",
    "1) It gives information about raw data           1) It makes inferences about the population \n",
    "   which describes the data in some manner.\t         using data drawn from the population.\n",
    "2) It helps in organizing, analyzing, and        2) It allows us to compare data, and make\n",
    "    to present data in a meaningful manner.                   hypotheses and predictions.\n",
    "3) It is used to describe a situation.\t         3) It is used to explain the chance of occurrence of an event.\n",
    "\n",
    "\n"
   ]
  },
  {
   "cell_type": "markdown",
   "id": "8970f7c1-db55-44a6-879a-e6faa13af581",
   "metadata": {},
   "source": [
    "Answer 10:-"
   ]
  },
  {
   "cell_type": "markdown",
   "id": "1bd0b216-822d-4a85-9ee4-2de0c073a240",
   "metadata": {},
   "source": [
    "Measures of central tendency are : MEAN, MEDIAN AND MODE."
   ]
  },
  {
   "cell_type": "code",
   "execution_count": 2,
   "id": "2dce9b20-2496-4be5-82c8-44cc34016658",
   "metadata": {},
   "outputs": [],
   "source": [
    "import numpy as np"
   ]
  },
  {
   "cell_type": "code",
   "execution_count": 3,
   "id": "9374d47d-cc63-43d4-9b67-ecfdeac4fd9e",
   "metadata": {},
   "outputs": [],
   "source": [
    "x = [1,2,3,4,5,6,7,8,9,0,64,5,23,2,3,57,7]"
   ]
  },
  {
   "cell_type": "code",
   "execution_count": 4,
   "id": "c6fcf089-4108-43b8-8295-72868903750c",
   "metadata": {},
   "outputs": [
    {
     "data": {
      "text/plain": [
       "12.117647058823529"
      ]
     },
     "execution_count": 4,
     "metadata": {},
     "output_type": "execute_result"
    }
   ],
   "source": [
    "np.mean(x)"
   ]
  },
  {
   "cell_type": "code",
   "execution_count": 5,
   "id": "0115387f-3329-468d-969b-b74764d142b6",
   "metadata": {},
   "outputs": [
    {
     "data": {
      "text/plain": [
       "5.0"
      ]
     },
     "execution_count": 5,
     "metadata": {},
     "output_type": "execute_result"
    }
   ],
   "source": [
    "np.median(x)"
   ]
  },
  {
   "cell_type": "code",
   "execution_count": 7,
   "id": "13e6cc49-ad5e-4fb5-8afd-60ff5ce354ab",
   "metadata": {},
   "outputs": [
    {
     "ename": "ModuleNotFoundError",
     "evalue": "No module named 'scripy'",
     "output_type": "error",
     "traceback": [
      "\u001b[1;31m---------------------------------------------------------------------------\u001b[0m",
      "\u001b[1;31mModuleNotFoundError\u001b[0m                       Traceback (most recent call last)",
      "Cell \u001b[1;32mIn[7], line 1\u001b[0m\n\u001b[1;32m----> 1\u001b[0m \u001b[38;5;28;01mfrom\u001b[39;00m \u001b[38;5;21;01mscripy\u001b[39;00m \u001b[38;5;28;01mimport\u001b[39;00m stats\n",
      "\u001b[1;31mModuleNotFoundError\u001b[0m: No module named 'scripy'"
     ]
    }
   ],
   "source": [
    "from scripy import stats"
   ]
  },
  {
   "cell_type": "code",
   "execution_count": null,
   "id": "7fc6dd13-6529-4cb7-bdd1-4c0b149e460d",
   "metadata": {},
   "outputs": [],
   "source": []
  }
 ],
 "metadata": {
  "kernelspec": {
   "display_name": "Python 3 (ipykernel)",
   "language": "python",
   "name": "python3"
  },
  "language_info": {
   "codemirror_mode": {
    "name": "ipython",
    "version": 3
   },
   "file_extension": ".py",
   "mimetype": "text/x-python",
   "name": "python",
   "nbconvert_exporter": "python",
   "pygments_lexer": "ipython3",
   "version": "3.12.4"
  }
 },
 "nbformat": 4,
 "nbformat_minor": 5
}
